{
 "cells": [
  {
   "cell_type": "markdown",
   "id": "f49199e5",
   "metadata": {},
   "source": [
    "# Data Science Tools and Ecosystem"
   ]
  },
  {
   "cell_type": "markdown",
   "id": "9ade7ae5",
   "metadata": {},
   "source": [
    "In this notebook, Data Science Tools and Ecoystem are summarized."
   ]
  },
  {
   "cell_type": "markdown",
   "id": "deb3abc4",
   "metadata": {},
   "source": [
    "Some of the popular languages that Data Scientists use are:\n",
    "    \n",
    "1. R\n",
    "2. SQL\n",
    "3. Python\n",
    "\n"
   ]
  },
  {
   "cell_type": "markdown",
   "id": "ecbaa047",
   "metadata": {},
   "source": [
    "Some of the commonly used libraries used by Data Scientists include:\n",
    "\n",
    "1. TensorFlow\n",
    "2. NumPy\n",
    "3. Pandas\n",
    "4. Keras\n",
    "5. PyTorch"
   ]
  },
  {
   "cell_type": "markdown",
   "id": "3d5425aa",
   "metadata": {},
   "source": [
    "<b>Objectives:</b>\n",
    "- List popular languages for Data Science\n",
    "- Create a table listing Data Science tools\n",
    "- Evalute simple arithmetic expressions"
   ]
  },
  {
   "cell_type": "markdown",
   "id": "66c263e7",
   "metadata": {},
   "source": [
    "|  | Data Science Tools |  |\n",
    "| -: | -: | -: |\n",
    "| Pandas | NumPy | Matplotlibs |"
   ]
  },
  {
   "cell_type": "markdown",
   "id": "7fd46a76",
   "metadata": {},
   "source": [
    "### Below are a few examples of evaluating artihmetic expressions in Python"
   ]
  },
  {
   "cell_type": "markdown",
   "id": "a90fed95",
   "metadata": {},
   "source": [
    "This a simple arithmetic expression to multiply then add integers"
   ]
  },
  {
   "cell_type": "code",
   "execution_count": 40,
   "id": "0506ddc1",
   "metadata": {},
   "outputs": [
    {
     "data": {
      "text/plain": [
       "17"
      ]
     },
     "execution_count": 40,
     "metadata": {},
     "output_type": "execute_result"
    }
   ],
   "source": [
    "(3*4)+5"
   ]
  },
  {
   "cell_type": "markdown",
   "id": "3bcb28fc",
   "metadata": {},
   "source": [
    "This will convert 200 minutes to hours by dividing by 60"
   ]
  },
  {
   "cell_type": "code",
   "execution_count": 45,
   "id": "4555a1a2",
   "metadata": {},
   "outputs": [
    {
     "name": "stdout",
     "output_type": "stream",
     "text": [
      "3\n"
     ]
    }
   ],
   "source": [
    "minutes = 200\n",
    "hours = minutes // 60\n",
    "print(hours)"
   ]
  },
  {
   "cell_type": "markdown",
   "id": "82632b7c",
   "metadata": {},
   "source": [
    "## Author\n",
    "Vincent Chan"
   ]
  },
  {
   "cell_type": "code",
   "execution_count": null,
   "id": "351606d1",
   "metadata": {},
   "outputs": [],
   "source": []
  }
 ],
 "metadata": {
  "kernelspec": {
   "display_name": "Python 3 (ipykernel)",
   "language": "python",
   "name": "python3"
  },
  "language_info": {
   "codemirror_mode": {
    "name": "ipython",
    "version": 3
   },
   "file_extension": ".py",
   "mimetype": "text/x-python",
   "name": "python",
   "nbconvert_exporter": "python",
   "pygments_lexer": "ipython3",
   "version": "3.9.13"
  }
 },
 "nbformat": 4,
 "nbformat_minor": 5
}
